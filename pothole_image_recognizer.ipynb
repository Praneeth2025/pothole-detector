{
 "cells": [
  {
   "cell_type": "code",
   "execution_count": 2,
   "metadata": {},
   "outputs": [],
   "source": [
    "import numpy as np\n",
    "import pandas as pd\n",
    "import matplotlib.pyplot as plt\n",
    "import cv2\n",
    "import os\n",
    "from os import path\n",
    "from PIL import Image, ImageFilter, ImageDraw\n",
    "from tqdm import tqdm\n",
    "from sklearn.metrics import roc_curve, auc\n",
    "from sklearn.metrics import confusion_matrix\n",
    "from scipy import interp\n",
    "from itertools import cycle\n",
    "import pandas as pd\n",
    "import seaborn as sn\n",
    "import shutil\n",
    "from PIL import ImageEnhance\n",
    "from sklearn.model_selection import train_test_split"
   ]
  },
  {
   "cell_type": "code",
   "execution_count": 9,
   "metadata": {},
   "outputs": [],
   "source": [
    "import tensorflow as tf\n",
    "import keras\n",
    "from tensorflow.keras.preprocessing.image import ImageDataGenerator\n",
    "from tensorflow.keras.applications import InceptionResNetV2\n",
    "from tensorflow.keras.applications import InceptionV3\n",
    "from tensorflow.keras.applications import ResNet50\n",
    "from tensorflow.keras.models import Sequential\n",
    "from tensorflow.keras.layers import Conv2D, MaxPooling2D, BatchNormalization, ReLU, Dropout, Dense, Flatten\n",
    "from tensorflow.keras import Model"
   ]
  },
  {
   "cell_type": "code",
   "execution_count": 12,
   "metadata": {},
   "outputs": [],
   "source": [
    "os.chdir(\"..\")"
   ]
  },
  {
   "cell_type": "code",
   "execution_count": 13,
   "metadata": {},
   "outputs": [
    {
     "name": "stdout",
     "output_type": "stream",
     "text": [
      "['Manhole', 'Pothole']\n"
     ]
    }
   ],
   "source": [
    "os.chdir('Images')\n",
    "path = os.getcwd()\n",
    "training_classes = [f.name for f in os.scandir(path) if f.is_dir()]\n",
    "print(training_classes)"
   ]
  },
  {
   "cell_type": "code",
   "execution_count": 24,
   "metadata": {},
   "outputs": [],
   "source": [
    "#counting the number of images in each class\n",
    "def counters(training_class):\n",
    "   old_dir=os.getcwd()\n",
    "   for names in training_class:\n",
    "    new_path=names\n",
    "    full_path = os.path.join(path, new_path)\n",
    "    \n",
    "     # Change to the new path\n",
    "    os.chdir(full_path)\n",
    "    count=0\n",
    "    for images in os.listdir():\n",
    "        count+=1\n",
    "    print(names,\" : \",count,\" images\")\n",
    "   os.chdir(old_dir)\n",
    "    "
   ]
  },
  {
   "cell_type": "code",
   "execution_count": 5,
   "metadata": {},
   "outputs": [
    {
     "name": "stdout",
     "output_type": "stream",
     "text": [
      "Manhole  :  25  images\n",
      "Pothole  :  300  images\n"
     ]
    }
   ],
   "source": [
    "#counting intially\n",
    "counters(training_class=training_classes)"
   ]
  },
  {
   "cell_type": "markdown",
   "metadata": {},
   "source": [
    "<h3>Data Augmentation</h3>"
   ]
  },
  {
   "cell_type": "code",
   "execution_count": 25,
   "metadata": {},
   "outputs": [],
   "source": [
    "def rotateImages(folder):\n",
    "  '''\n",
    "   Applying Rotation to the images for data augumentation\n",
    "  '''\n",
    "  previous_path = os.getcwd()\n",
    "  os.chdir(folder)\n",
    "  current_path = os.getcwd()\n",
    "\n",
    "  for image in os.listdir(current_path):\n",
    "    # check if the image is already rotated.\n",
    "    if (image.find(\"rot\") == -1):\n",
    "      img = Image.open(image)\n",
    "      # get the image name\n",
    "      img_name = list(image.split(\".\"))[0]\n",
    "      rotimg = img.rotate(90)\n",
    "      # saving the image with its rotation information as well.\n",
    "      rotimg.save(img_name+\"rot\"+str(90)+\".jpg\")\n",
    "      img.close()\n",
    "  os.chdir(previous_path)"
   ]
  },
  {
   "cell_type": "code",
   "execution_count": 26,
   "metadata": {},
   "outputs": [],
   "source": [
    "def addBlur(folder):\n",
    "  '''\n",
    "    Adds Blur to the images.\n",
    "  '''\n",
    "  previous_path = os.getcwd()\n",
    "  os.chdir(folder)\n",
    "  current_path = os.getcwd()\n",
    "  \n",
    "  for image in (os.listdir(current_path)):\n",
    "    if (image.find(\"rot\") == -1):\n",
    "      img = Image.open(image)\n",
    "      # adds blur to the image using ImageFilter.Blur\n",
    "      blured_image = img.filter(ImageFilter.BLUR)\n",
    "      # get the image name\n",
    "      img_name = list(image.split(\".\"))[0]\n",
    "      # saving the image by adding the blur feature.\n",
    "      blured_image.save(img_name+\"blur.jpg\")\n",
    "      \n",
    "  os.chdir(previous_path)"
   ]
  },
  {
   "cell_type": "code",
   "execution_count": 27,
   "metadata": {},
   "outputs": [],
   "source": [
    "def Brightness(folder):\n",
    "  '''\n",
    "    Adds Blur to the images.\n",
    "  '''\n",
    "  previous_path = os.getcwd()\n",
    "  os.chdir(folder)\n",
    "  current_path = os.getcwd()\n",
    "  \n",
    "  for image in (os.listdir(current_path)):\n",
    "    if image.find(\"Brightness\") == -1:\n",
    "        img = Image.open(image)  # Open the image using the image path\n",
    "        enhancer = ImageEnhance.Brightness(img)  # Pass the image object, not the path\n",
    "\n",
    "        # Change the brightness (1.0 means original brightness)\n",
    "        brightness_factor = 1.5  # Increase brightness by 50%\n",
    "        img_enhanced = enhancer.enhance(brightness_factor)  \n",
    "\n",
    "         # Increase brightness by 50%\n",
    "        brightened_image = enhancer.enhance(1.5)\n",
    "      # get the image name\n",
    "        img_name = list(image.split(\".\"))[0]\n",
    "      # saving the image by adding the blur feature.\n",
    "        brightened_image.save(img_name+\"Brightness.jpg\")\n",
    "      \n",
    "  os.chdir(previous_path)"
   ]
  },
  {
   "cell_type": "code",
   "execution_count": 3,
   "metadata": {},
   "outputs": [],
   "source": [
    "\n",
    "os.getcwd()\n",
    "os.chdir(\"images\")"
   ]
  },
  {
   "cell_type": "code",
   "execution_count": 28,
   "metadata": {},
   "outputs": [],
   "source": [
    "path=os.getcwd()\n",
    "for names in training_classes:\n",
    "    new_path=names\n",
    "    full_path = os.path.join(path, new_path)\n",
    "    rotateImages(full_path)\n",
    "    addBlur(full_path)\n",
    "    Brightness(full_path)\n"
   ]
  },
  {
   "cell_type": "code",
   "execution_count": 29,
   "metadata": {},
   "outputs": [],
   "source": [
    "def addHorizontalFlip(folder):\n",
    "    '''\n",
    "    Adds horizontal flip to the images in the specified folder.\n",
    "    Args:\n",
    "      folder : (str) : Directory containing images.\n",
    "    '''\n",
    "    previous_path = os.getcwd()\n",
    "    os.chdir(folder)\n",
    "    current_path = os.getcwd()\n",
    "\n",
    "    for image in os.listdir(current_path):\n",
    "        # Check if the image has not already been flipped\n",
    "        if \"flip\" not in image:\n",
    "            img_path = os.path.join(current_path, image)  # Full path to the image\n",
    "            img = cv2.imread(img_path)  # Read the image using OpenCV\n",
    "\n",
    "            if img is not None:  # Check if the image was loaded successfully\n",
    "                # Flip the image horizontally\n",
    "                flipped_image = cv2.flip(img, 1)\n",
    "\n",
    "                # Get the image name without the extension\n",
    "                img_name = os.path.splitext(image)[0]\n",
    "\n",
    "                # Save the flipped image with a new name\n",
    "                flipped_image_path = os.path.join(current_path, f\"{img_name}_flip.jpg\")\n",
    "                cv2.imwrite(flipped_image_path, flipped_image)\n",
    "\n",
    "    os.chdir(previous_path)"
   ]
  },
  {
   "cell_type": "code",
   "execution_count": 30,
   "metadata": {},
   "outputs": [
    {
     "name": "stdout",
     "output_type": "stream",
     "text": [
      "Manhole  :  300  images\n",
      "Pothole  :  0  images\n"
     ]
    }
   ],
   "source": [
    "#applying horizontal flip to the Manhole images only to reduce the difference\n",
    "full_path = os.path.join(path, \"Manhole\")\n",
    "addHorizontalFlip(full_path)\n",
    "counters(training_class=training_classes)"
   ]
  },
  {
   "cell_type": "code",
   "execution_count": 27,
   "metadata": {},
   "outputs": [
    {
     "name": "stdout",
     "output_type": "stream",
     "text": [
      "200 300 200 150 75\n"
     ]
    }
   ],
   "source": [
    "flip=bright=rotate=blur=nothing=0\n",
    "for folder in training_classes:\n",
    "    new_path=os.path.join(path,folder)\n",
    "    for images in os.listdir(new_path):\n",
    "        if \"flip\" in images:\n",
    "            flip+=1\n",
    "        if \"rot\" in images:\n",
    "            rotate+=1\n",
    "        if \"Brightness\" in images:\n",
    "            bright+=1\n",
    "        if \"blur\" in images:\n",
    "            blur+=1\n",
    "        if not any(substring in images for substring in [\"blur\", \"flip\", \"Brightness\", \"rot\"]):\n",
    "            nothing+=1\n",
    "print(blur,bright,rotate,flip,nothing)"
   ]
  },
  {
   "cell_type": "code",
   "execution_count": 37,
   "metadata": {},
   "outputs": [
    {
     "data": {
      "image/png": "[encoded data removed]",
      "text/plain": [
       "<Figure size 800x500 with 1 Axes>"
      ]
     },
     "metadata": {},
     "output_type": "display_data"
    }
   ],
   "source": [
    "categories = [\"UnAugumented\",\"flipped Images\",\"Blurred images\",\"Rotated Images\",\"Brightened Images\"]\n",
    "values = [nothing,flip,blur, rotate, bright ]\n",
    "\n",
    "# Create the bar graph\n",
    "plt.figure(figsize=(8, 5))\n",
    "plt.bar(categories, values, width = 0.5, color='#00904C',alpha=0.7)\n",
    "\n",
    "# Add titles and labels\n",
    "plt.title('Image Processing Operations Comparison')\n",
    "plt.xlabel('Operations')\n",
    "plt.ylabel('Values')\n",
    "\n",
    "# Show the bar graph\n",
    "plt.show()"
   ]
  },
  {
   "cell_type": "code",
   "execution_count": 18,
   "metadata": {},
   "outputs": [
    {
     "data": {
      "text/plain": [
       "'c:\\\\Users\\\\vamsi\\\\OneDrive\\\\Desktop\\\\Documents\\\\studies\\\\PROJECTS\\\\data science\\\\pothole image detector\\\\Images'"
      ]
     },
     "execution_count": 18,
     "metadata": {},
     "output_type": "execute_result"
    }
   ],
   "source": [
    "os.getcwd()\n"
   ]
  },
  {
   "cell_type": "code",
   "execution_count": 35,
   "metadata": {},
   "outputs": [],
   "source": [
    "img_label={}\n",
    "#Creating Dataset\n",
    "for folder in training_classes:\n",
    "    previous_path = os.getcwd()\n",
    "    os.chdir(folder)\n",
    "    current_path = os.getcwd()\n",
    "  # for each image in the current directory\n",
    "    total_images = 0\n",
    "    for image in os.listdir(current_path):\n",
    "        os.rename(image, \"c:\\\\Users\\\\vamsi\\\\OneDrive\\\\Desktop\\\\Documents\\\\studies\\\\PROJECTS\\\\data science\\\\pothole image detector\\\\train\\\\\" + os.path.basename(image))\n",
    "        if (folder=='Manhole'):\n",
    "           img_label[image] = np.asarray([1,0], dtype=np.float32)\n",
    "        else:\n",
    "           img_label[image] = np.asarray([0,1], dtype=np.float32)\n",
    "\n",
    "    os.chdir(previous_path)"
   ]
  },
  {
   "cell_type": "code",
   "execution_count": 36,
   "metadata": {},
   "outputs": [
    {
     "data": {
      "text/plain": [
       "600"
      ]
     },
     "execution_count": 36,
     "metadata": {},
     "output_type": "execute_result"
    }
   ],
   "source": [
    "len(img_label)"
   ]
  },
  {
   "cell_type": "code",
   "execution_count": 38,
   "metadata": {},
   "outputs": [
    {
     "data": {
      "text/plain": [
       "array([0., 1.], dtype=float32)"
      ]
     },
     "execution_count": 38,
     "metadata": {},
     "output_type": "execute_result"
    }
   ],
   "source": [
    "img_label[\"1.jpg\"]"
   ]
  },
  {
   "cell_type": "code",
   "execution_count": 41,
   "metadata": {},
   "outputs": [],
   "source": [
    "\n",
    "def load_image(image_path):\n",
    "    img = tf.io.read_file(image_path)\n",
    "    img = tf.image.decode_jpeg(img, channels=3)\n",
    "    img = tf.image.resize(img, (299, 299))\n",
    "    img = img / 255.0\n",
    "    return img"
   ]
  },
  {
   "cell_type": "code",
   "execution_count": 43,
   "metadata": {},
   "outputs": [],
   "source": [
    "os.chdir(\"..\")"
   ]
  },
  {
   "cell_type": "code",
   "execution_count": 45,
   "metadata": {},
   "outputs": [
    {
     "data": {
      "text/plain": [
       "'c:\\\\Users\\\\vamsi\\\\OneDrive\\\\Desktop\\\\Documents\\\\studies\\\\PROJECTS\\\\data science\\\\pothole image detector'"
      ]
     },
     "execution_count": 45,
     "metadata": {},
     "output_type": "execute_result"
    }
   ],
   "source": [
    "os.getcwd()"
   ]
  },
  {
   "cell_type": "code",
   "execution_count": 46,
   "metadata": {},
   "outputs": [
    {
     "name": "stdout",
     "output_type": "stream",
     "text": [
      "image has a shape of (299, 299, 3)\n"
     ]
    }
   ],
   "source": [
    "os.chdir('train')\n",
    "image = load_image('1.jpg')\n",
    "print(f\"image has a shape of {image.shape}\")"
   ]
  },
  {
   "cell_type": "code",
   "execution_count": 47,
   "metadata": {},
   "outputs": [
    {
     "name": "stdout",
     "output_type": "stream",
     "text": [
      "Length of training images = 540\n",
      "Length of training labels = 540\n",
      "Length of validating images = 60\n",
      "Length of validating labels = 60\n"
     ]
    }
   ],
   "source": [
    "img_name_train, img_name_val, output_label_train, output_label_val = train_test_split(\n",
    "                                                                    list(img_label.keys()),\n",
    "                                                                    list(img_label.values()),\n",
    "                                                                    test_size=0.1,\n",
    "                                                                    random_state=0)\n",
    "\n",
    "print(f'Length of training images = {len(img_name_train)}')\n",
    "print(f'Length of training labels = {len(output_label_train)}')\n",
    "print(f\"Length of validating images = {len(img_name_val)}\")\n",
    "print(f'Length of validating labels = {len(output_label_val)}')"
   ]
  },
  {
   "cell_type": "code",
   "execution_count": 48,
   "metadata": {},
   "outputs": [
    {
     "data": {
      "text/plain": [
       "'c:\\\\Users\\\\vamsi\\\\OneDrive\\\\Desktop\\\\Documents\\\\studies\\\\PROJECTS\\\\data science\\\\pothole image detector\\\\train'"
      ]
     },
     "execution_count": 48,
     "metadata": {},
     "output_type": "execute_result"
    }
   ],
   "source": [
    "os.getcwd()"
   ]
  },
  {
   "cell_type": "code",
   "execution_count": null,
   "metadata": {},
   "outputs": [],
   "source": [
    "\n",
    "\n",
    "channels = 3\n",
    "\n",
    "train_images = np.ndarray(shape=(len(img_name_train), IMG_SHAPE, IMG_SHAPE, channels), dtype=np.float32)\n",
    "train_labels = np.ndarray(shape=(len(output_label_train), 3 ), dtype=np.float32)\n",
    "val_images = np.ndarray(shape=(len(img_name_val), IMG_SHAPE, IMG_SHAPE, channels), dtype=np.float32)\n",
    "val_labels = np.ndarray(shape=(len(output_label_val), 3 ), dtype=np.float32)\n",
    "\n",
    "i=0\n",
    "for image in tqdm(list(img_name_train)):\n",
    "  x, path = load_image(image)\n",
    "  train_images[i] = x\n",
    "  train_labels[i] = np.asarray(output_label_train[i])\n",
    "  i += 1\n",
    "\n",
    "\n",
    "i=0\n",
    "for image in tqdm(list(img_name_val)):\n",
    "  x, path = load_image(image)\n",
    "  val_images[i] = x\n",
    "  val_labels[i] = np.asarray(output_label_val[i])\n",
    "  i += 1\n",
    "\n",
    "os.chdir('/content')"
   ]
  }
 ],
 "metadata": {
  "kernelspec": {
   "display_name": "base",
   "language": "python",
   "name": "python3"
  },
  "language_info": {
   "codemirror_mode": {
    "name": "ipython",
    "version": 3
   },
   "file_extension": ".py",
   "mimetype": "text/x-python",
   "name": "python",
   "nbconvert_exporter": "python",
   "pygments_lexer": "ipython3",
   "version": "3.11.7"
  }
 },
 "nbformat": 4,
 "nbformat_minor": 2
}
